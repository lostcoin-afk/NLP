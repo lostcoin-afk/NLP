{
 "cells": [
  {
   "cell_type": "markdown",
   "id": "882eba35",
   "metadata": {},
   "source": [
    "#### after the tokenizer we can add a pipeline of other componets using the add_pipe() functions. Components can be like tagger, parser, NER, ....etc."
   ]
  },
  {
   "cell_type": "code",
   "execution_count": 2,
   "id": "80d421bd",
   "metadata": {},
   "outputs": [],
   "source": [
    "import spacy"
   ]
  },
  {
   "cell_type": "code",
   "execution_count": 3,
   "id": "b39eaede",
   "metadata": {},
   "outputs": [
    {
     "name": "stdout",
     "output_type": "stream",
     "text": [
      "Apple\n",
      "Inc.\n",
      "was\n",
      "founded\n",
      "by\n",
      "Steve\n",
      "Jobs\n",
      ",\n",
      "Steve\n",
      "Wozniak\n",
      ",\n",
      "and\n",
      "Ronald\n",
      "Wayne\n",
      "in\n",
      "April\n",
      "1976\n",
      "in\n",
      "Cupertino\n",
      ",\n",
      "California\n",
      ".\n",
      "The\n",
      "company\n",
      "revolutionized\n",
      "the\n",
      "personal\n",
      "computer\n",
      "industry\n",
      "with\n",
      "the\n",
      "Apple\n",
      "II\n",
      ",\n",
      "and\n",
      "later\n",
      "transformed\n",
      "consumer\n",
      "electronics\n",
      "with\n",
      "the\n",
      "iPhone\n",
      ".\n",
      "Today\n",
      ",\n",
      "Apple\n",
      "employs\n",
      "over\n",
      "150,000\n",
      "people\n",
      "worldwide\n",
      "and\n",
      "reported\n",
      "a\n",
      "net\n",
      "income\n",
      "of\n",
      "$\n",
      "94.7\n",
      "billion\n",
      "in\n",
      "2024\n",
      ".\n"
     ]
    }
   ],
   "source": [
    "nlp = spacy.blank(\"en\")\n",
    "\n",
    "doc = nlp(\n",
    "    \"Apple Inc. was founded by Steve Jobs, Steve Wozniak, and Ronald Wayne in April 1976 in Cupertino, California. The company revolutionized the personal computer industry with the Apple II, and later transformed consumer electronics with the iPhone. Today, Apple employs over 150,000 people worldwide and reported a net income of $94.7 billion in 2024.\"\n",
    ")\n",
    "\n",
    "for t in doc:\n",
    "    print(t)"
   ]
  },
  {
   "cell_type": "code",
   "execution_count": null,
   "id": "a330a39d",
   "metadata": {},
   "outputs": [
    {
     "data": {
      "text/plain": [
       "[]"
      ]
     },
     "execution_count": 4,
     "metadata": {},
     "output_type": "execute_result"
    }
   ],
   "source": [
    "## in order to view the componensts of the nlp pipeline we can use the below\n",
    "\n",
    "## In spacy documentation we can download a pretrained pipeline for any language say english chinesee, how ever such pipelines doesnt exist for all languages\n",
    "\n",
    "## \n",
    "\n",
    "nlp.pipe_names"
   ]
  },
  {
   "cell_type": "code",
   "execution_count": 7,
   "id": "00e3bf1e",
   "metadata": {},
   "outputs": [
    {
     "data": {
      "text/plain": [
       "['tok2vec', 'tagger', 'parser', 'attribute_ruler', 'lemmatizer', 'ner']"
      ]
     },
     "execution_count": 7,
     "metadata": {},
     "output_type": "execute_result"
    }
   ],
   "source": [
    "nlp1 = spacy.load(\"en_core_web_sm\")\n",
    "nlp1.pipe_names"
   ]
  },
  {
   "cell_type": "code",
   "execution_count": 11,
   "id": "a3d85819",
   "metadata": {},
   "outputs": [
    {
     "name": "stdout",
     "output_type": "stream",
     "text": [
      "Give | VERB | give\n",
      "me | PRON | I\n",
      "10 | NUM | 10\n",
      "$ | SYM | $\n",
      "so | SCONJ | so\n",
      "that | SCONJ | that\n",
      "i | PRON | I\n",
      "can | AUX | can\n",
      "enjoy | VERB | enjoy\n",
      "! | PUNCT | !\n",
      "Ramesh | PROPN | Ramesh\n",
      "also | ADV | also\n",
      "wants | VERB | want\n",
      "to | PART | to\n",
      "enjoy | VERB | enjoy\n",
      ". | PUNCT | .\n",
      "We | PRON | we\n",
      "will | AUX | will\n",
      "play | VERB | play\n",
      "football | NOUN | football\n",
      "along | ADP | along\n",
      "with | ADP | with\n",
      "ram | NOUN | ram\n",
      "and | CCONJ | and\n",
      "spent | VERB | spend\n",
      "the | DET | the\n",
      "money | NOUN | money\n",
      "after | ADP | after\n",
      "the | DET | the\n",
      "game | NOUN | game\n",
      ". | PUNCT | .\n"
     ]
    }
   ],
   "source": [
    "doc1 = nlp1(\"Give me 10$ so that i can enjoy ! Ramesh also wants to enjoy. We will play football along with ram and spent the money after the game.\")\n",
    "for token in doc1:\n",
    "    print(f\"{token} | {token.pos_} | {token.lemma_}\")\n"
   ]
  },
  {
   "cell_type": "code",
   "execution_count": 13,
   "id": "ba278fc2",
   "metadata": {},
   "outputs": [
    {
     "name": "stdout",
     "output_type": "stream",
     "text": [
      "10$ | MONEY | Monetary values, including unit\n"
     ]
    }
   ],
   "source": [
    "for ent in doc1.ents:\n",
    "    print(f\"{ent.text} | {ent.label_} | {spacy.explain(ent.label_)}\")"
   ]
  },
  {
   "cell_type": "code",
   "execution_count": null,
   "id": "6ca8de52",
   "metadata": {},
   "outputs": [
    {
     "name": "stdout",
     "output_type": "stream",
     "text": [
      "Bloomberg | ORG | Companies, agencies, institutions, etc.\n",
      "Blooomber Inc | PERSON | People, including fictional\n"
     ]
    }
   ],
   "source": [
    "\n",
    "## This is NER detects entitites from paragraph \n",
    "\n",
    "text3 = \"Bloomberg founded data analytics comany Blooomber Inc\"\n",
    "doc3 = nlp1(text3)\n",
    "for ent in doc3.ents:\n",
    "    print(f\"{ent.text} | {ent.label_} | {spacy.explain(ent.label_)}\")"
   ]
  },
  {
   "cell_type": "code",
   "execution_count": 19,
   "id": "4c459c88",
   "metadata": {},
   "outputs": [
    {
     "ename": "ImportError",
     "evalue": "cannot import name 'display' from 'IPython.core.display' (/home/skrrr/Projects/NLP/myenv/lib/python3.12/site-packages/IPython/core/display.py)",
     "output_type": "error",
     "traceback": [
      "\u001b[31m---------------------------------------------------------------------------\u001b[39m",
      "\u001b[31mImportError\u001b[39m                               Traceback (most recent call last)",
      "\u001b[36mCell\u001b[39m\u001b[36m \u001b[39m\u001b[32mIn[19]\u001b[39m\u001b[32m, line 3\u001b[39m\n\u001b[32m      1\u001b[39m \u001b[38;5;28;01mfrom\u001b[39;00m\u001b[38;5;250m \u001b[39m\u001b[34;01mspacy\u001b[39;00m\u001b[38;5;250m \u001b[39m\u001b[38;5;28;01mimport\u001b[39;00m displacy\n\u001b[32m----> \u001b[39m\u001b[32m3\u001b[39m \u001b[43mdisplacy\u001b[49m\u001b[43m.\u001b[49m\u001b[43mrender\u001b[49m\u001b[43m(\u001b[49m\u001b[43mdoc3\u001b[49m\u001b[43m,\u001b[49m\u001b[43m \u001b[49m\u001b[43mstyle\u001b[49m\u001b[43m=\u001b[49m\u001b[33;43m\"\u001b[39;49m\u001b[33;43ment\u001b[39;49m\u001b[33;43m\"\u001b[39;49m\u001b[43m,\u001b[49m\u001b[43m \u001b[49m\u001b[43mjupyter\u001b[49m\u001b[43m=\u001b[49m\u001b[38;5;28;43;01mTrue\u001b[39;49;00m\u001b[43m)\u001b[49m\n",
      "\u001b[36mFile \u001b[39m\u001b[32m~/Projects/NLP/myenv/lib/python3.12/site-packages/spacy/displacy/__init__.py:69\u001b[39m, in \u001b[36mrender\u001b[39m\u001b[34m(docs, style, page, minify, jupyter, options, manual)\u001b[39m\n\u001b[32m     65\u001b[39m     html = RENDER_WRAPPER(html)\n\u001b[32m     66\u001b[39m \u001b[38;5;28;01mif\u001b[39;00m jupyter \u001b[38;5;129;01mor\u001b[39;00m (jupyter \u001b[38;5;129;01mis\u001b[39;00m \u001b[38;5;28;01mNone\u001b[39;00m \u001b[38;5;129;01mand\u001b[39;00m is_in_jupyter()):\n\u001b[32m     67\u001b[39m     \u001b[38;5;66;03m# return HTML rendered by IPython display()\u001b[39;00m\n\u001b[32m     68\u001b[39m     \u001b[38;5;66;03m# See #4840 for details on span wrapper to disable mathjax\u001b[39;00m\n\u001b[32m---> \u001b[39m\u001b[32m69\u001b[39m     \u001b[38;5;28;01mfrom\u001b[39;00m\u001b[38;5;250m \u001b[39m\u001b[34;01mIPython\u001b[39;00m\u001b[34;01m.\u001b[39;00m\u001b[34;01mcore\u001b[39;00m\u001b[34;01m.\u001b[39;00m\u001b[34;01mdisplay\u001b[39;00m\u001b[38;5;250m \u001b[39m\u001b[38;5;28;01mimport\u001b[39;00m HTML, display\n\u001b[32m     71\u001b[39m     \u001b[38;5;28;01mreturn\u001b[39;00m display(HTML(\u001b[33m'\u001b[39m\u001b[33m<span class=\u001b[39m\u001b[33m\"\u001b[39m\u001b[33mtex2jax_ignore\u001b[39m\u001b[33m\"\u001b[39m\u001b[33m>\u001b[39m\u001b[38;5;132;01m{}\u001b[39;00m\u001b[33m</span>\u001b[39m\u001b[33m'\u001b[39m.format(html)))\n\u001b[32m     72\u001b[39m \u001b[38;5;28;01mreturn\u001b[39;00m html\n",
      "\u001b[31mImportError\u001b[39m: cannot import name 'display' from 'IPython.core.display' (/home/skrrr/Projects/NLP/myenv/lib/python3.12/site-packages/IPython/core/display.py)"
     ]
    }
   ],
   "source": [
    "from spacy import displacy\n",
    "\n",
    "displacy.render(doc3, style=\"ent\", jupyter=True)"
   ]
  },
  {
   "cell_type": "code",
   "execution_count": null,
   "id": "8d864378",
   "metadata": {},
   "outputs": [
    {
     "name": "stdout",
     "output_type": "stream",
     "text": [
      "Before altering the pipes;- []\n",
      "After altering the pipes;- ['tagger', 'ner']\n"
     ]
    }
   ],
   "source": [
    "## We can customise a blank pipleine and can add your custom components and those components can be osourced from a trained pipeline\n",
    "\n",
    "source_nlp = spacy.load(\"en_core_web_sm\")\n",
    "\n",
    "nlp_demo = spacy.blank(\"en\")\n",
    "\n",
    "print(f\"Before altering the pipes;- {nlp_demo.pipe_names}\")\n",
    "\n",
    "nlp_demo.add_pipe(\"parser\",\"tagger\", source=source_nlp)\n",
    "nlp_demo.add_pipe(\"ner\", source=source_nlp)\n",
    "\n",
    "\n",
    "print(f\"After altering the pipes;- {nlp_demo.pipe_names}\")"
   ]
  },
  {
   "cell_type": "code",
   "execution_count": null,
   "id": "e33025b7",
   "metadata": {},
   "outputs": [],
   "source": [
    "\n"
   ]
  },
  {
   "cell_type": "code",
   "execution_count": null,
   "id": "c1e8491a",
   "metadata": {},
   "outputs": [],
   "source": []
  }
 ],
 "metadata": {
  "kernelspec": {
   "display_name": "myenv",
   "language": "python",
   "name": "python3"
  },
  "language_info": {
   "codemirror_mode": {
    "name": "ipython",
    "version": 3
   },
   "file_extension": ".py",
   "mimetype": "text/x-python",
   "name": "python",
   "nbconvert_exporter": "python",
   "pygments_lexer": "ipython3",
   "version": "3.12.3"
  }
 },
 "nbformat": 4,
 "nbformat_minor": 5
}
